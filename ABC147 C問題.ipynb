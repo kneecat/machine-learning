{
  "nbformat": 4,
  "nbformat_minor": 0,
  "metadata": {
    "colab": {
      "name": "C問題",
      "provenance": [],
      "collapsed_sections": [],
      "include_colab_link": true
    },
    "kernelspec": {
      "name": "python3",
      "display_name": "Python 3"
    }
  },
  "cells": [
    {
      "cell_type": "markdown",
      "metadata": {
        "id": "view-in-github",
        "colab_type": "text"
      },
      "source": [
        "<a href=\"https://colab.research.google.com/github/kneecat/machine-learning/blob/master/ABC147%20C%E5%95%8F%E9%A1%8C.ipynb\" target=\"_parent\"><img src=\"https://colab.research.google.com/assets/colab-badge.svg\" alt=\"Open In Colab\"/></a>"
      ]
    },
    {
      "cell_type": "markdown",
      "metadata": {
        "id": "GWt3tVCdVRqW",
        "colab_type": "text"
      },
      "source": [
        "・**実験目的**\n",
        "<br>\n",
        "なにかを実装してみたい（主に機械学習のシステム）時に、今まではネットや本で調べながら作ってきた。しかし、プログラミングの力がないとそもそもこうやって作れるのではないか？という発想自体が浮かばないのでプログラミングにどっぷりと浸かる機会が必要だと思った。問題集をひたすら解くのも良いが、問題を解くこと自体に動機はない（自分で考えた問題ではないため、必要に迫られていないため）ので問題を解くこと自体にモチベーションを得るのではなく問題を解くことで得られる報酬（ここではスコアによってランク付けがされるAtCoderのシステム）からモチベーションを得られるのではないかと思い、教義プログラミングを始めた。\n",
        "<br>\n",
        "・**実験方法**\n",
        "<br>\n",
        "ABC(\"AtCoder Beigner Contest\")の第147回を解きなおす。\n",
        "<br>\n",
        "・**実験結果**\n",
        "<br>\n",
        "以下に示す。"
      ]
    },
    {
      "cell_type": "markdown",
      "metadata": {
        "id": "qMkDPA9kXppG",
        "colab_type": "text"
      },
      "source": [
        "**・AtCoderについて**\n",
        "<br>\n",
        "競技プログラミングを行う国内最大のサイト\n",
        "<br>\n",
        "**・ABCについて**\n",
        "<br>\n",
        "* ほぼ毎週行われているコンテスト\n",
        "* ウェブ上で誰でも簡単に受けることが出来る\n",
        "* 試験時間は２１：００～２２：４０の１００分間\n",
        "* ネットや本を見たり、自作の関数を使用することなどは認められている\n",
        "* 複数人で相談しあって解くことは不正行為として禁止されている\n",
        "* 試験問題はA～F問題の６つで構成されている（A→B→C→D→E→Fの順でむずかしい）"
      ]
    },
    {
      "cell_type": "markdown",
      "metadata": {
        "id": "ijPuYmqnC8iH",
        "colab_type": "text"
      },
      "source": [
        "**問題文**\n",
        "<br>\n",
        "1からNまでの番号が振り分けられたN人の人がいる。この人たちは  \n",
        "①正しいことしか言わない人（正直者）\n",
        "<br>\n",
        "②正しいことも言うし間違っていることも言う人（不適切な人） \n",
        "<br>\n",
        "に分けられる。\n",
        "人iは$A_i$個の証言を持っている。また、その証言のj個目の要素は2つの整数$x_{ij},y_{ij}$で構成されている。（$x$は人物名、$y=1$で正直者、$y=0$で不適切な人。）このN人の中には最大で何人の正直者が存在できるか？ただし\n",
        "<br>\n",
        "* 入力はすべて整数\n",
        "* $1\\leqq{N}\\leqq{15}$\n",
        "* $0\\leqq{A_i}\\leqq{N-1}$\n",
        "* $1\\leqq{x_{ij}}\\leqq{N}$\n",
        "* $x_{ij}\\neq{i}$\n",
        "* $x_{ij1}\\neq{x_{ij2}}(j_1\\neq{j_2})$\n",
        "* $y_{ij}=0,1$\n",
        "<br>\n",
        "という条件がある。入力は\n",
        "<br>\n",
        "<br>\n",
        "N\n",
        "<br>\n",
        "$A_1$\n",
        "<br>\n",
        "$x_{11}\\quad{y_{11}}$\n",
        "<br>\n",
        "・\n",
        "<br>\n",
        "・\n",
        "<br>\n",
        "・\n",
        "<br>\n",
        "$x_{1A_1}\\quad{y_{1A_1}}$\n",
        "<br>\n",
        "・\n",
        "<br>\n",
        "・\n",
        "<br>\n",
        "・\n",
        "<br>\n",
        "$A_N$\n",
        "<br>\n",
        "$x_{N1}\\quad{y_{N1}}$\n",
        "<br>\n",
        "・\n",
        "<br>\n",
        "・\n",
        "<br>\n",
        "・\n",
        "<br>\n",
        "$x_{NA_N}\\quad{y_{NA_N}}$\n",
        "<br>\n",
        "<br>\n",
        "のように与えられる。\n"
      ]
    },
    {
      "cell_type": "code",
      "metadata": {
        "id": "qbe6hVEfYU9L",
        "colab_type": "code",
        "colab": {}
      },
      "source": [
        "#誤答例\n",
        "N = int(input())\n",
        "a = [[] for _ in range(N)]\n",
        "b = []\n",
        "for i in range(N):\n",
        "  A_i = int(input())\n",
        "  b.append(A_i)\n",
        "  for j in range(A_i):\n",
        "    a[i].append(list(map(int, input().split())))\n",
        "    \n",
        "book = a\n",
        "max_honest = 0\n",
        "\n",
        "i = 0\n",
        "while i < N:\n",
        "  honest_p = []\n",
        "  unkind_p = []\n",
        "  honest_p.append(i)\n",
        "  contradiction = False\n",
        "  while True:\n",
        "    changed = False\n",
        "    for j in honest_p:\n",
        "      for k in range(b[j]):\n",
        "        people = book[j][k][0] - 1\n",
        "        testimony = book[j][k][1]\n",
        "        if testimony and people in unkind_p:\n",
        "          max_honest = 0\n",
        "          contradiction = True\n",
        "          break\n",
        "        if not testimony and people in honest_p:\n",
        "          max_honest = 0\n",
        "          contradiction = True\n",
        "          break\n",
        "        if testimony and not people in honest_p:\n",
        "          honest_p.append(people)\n",
        "          changed = True\n",
        "        if testimony and not people in unkind_p:\n",
        "          unkind_p.append(people)\n",
        "          changed = True\n",
        "    if contradiction:\n",
        "      break\n",
        "    if len(honest_p) > max_honest:\n",
        "      max_honest = len(honest_p)\n",
        "    if not changed:\n",
        "      break\n",
        "  i += 1\n",
        "\n",
        "print(max_honest)"
      ],
      "execution_count": 0,
      "outputs": []
    },
    {
      "cell_type": "markdown",
      "metadata": {
        "id": "zD1e9qJ0ZbpW",
        "colab_type": "text"
      },
      "source": [
        "↑のやつだと**最初の正直者の仮定**を一人ずつしかおこなっていないので不正解となった"
      ]
    },
    {
      "cell_type": "markdown",
      "metadata": {
        "id": "abq1OZvZad4Y",
        "colab_type": "text"
      },
      "source": [
        "**bit全探索**という方法を用いる"
      ]
    },
    {
      "cell_type": "code",
      "metadata": {
        "id": "0TOo12OSakN3",
        "colab_type": "code",
        "outputId": "709c2504-d293-4449-a2bf-317c2fd41ace",
        "colab": {
          "base_uri": "https://localhost:8080/",
          "height": 89
        }
      },
      "source": [
        "#pythonでの2進数の取り扱い\n",
        "num = 3\n",
        "print(num)\n",
        "print(\"type=\", type(num))\n",
        "bin_num = bin(num)\n",
        "print(bin_num)\n",
        "#str型になる\n",
        "print(\"type=\", type(bin_num))"
      ],
      "execution_count": 0,
      "outputs": [
        {
          "output_type": "stream",
          "text": [
            "3\n",
            "type= <class 'int'>\n",
            "0b11\n",
            "type= <class 'str'>\n"
          ],
          "name": "stdout"
        }
      ]
    },
    {
      "cell_type": "code",
      "metadata": {
        "id": "d5GDvWV9av05",
        "colab_type": "code",
        "outputId": "bab187d8-5941-41f4-8f01-86c2ea3e763f",
        "colab": {
          "base_uri": "https://localhost:8080/",
          "height": 53
        }
      },
      "source": [
        "num = 9\n",
        "bin_num = bin(num)\n",
        "print(bin_num)\n",
        "#以下の不等号で右にシフトできる。その後１との論理和をとる。\n",
        "print((num >> 3) & 1)"
      ],
      "execution_count": 0,
      "outputs": [
        {
          "output_type": "stream",
          "text": [
            "0b1001\n",
            "1\n"
          ],
          "name": "stdout"
        }
      ]
    },
    {
      "cell_type": "code",
      "metadata": {
        "id": "P-F7QEH1bHgD",
        "colab_type": "code",
        "outputId": "ed95fe05-f20f-4a19-9a92-75add7f8ebca",
        "colab": {
          "base_uri": "https://localhost:8080/",
          "height": 557
        }
      },
      "source": [
        "#正解例\n",
        "N = int(input())\n",
        "a = [[] for _ in range(N)]\n",
        "for i in range(N):\n",
        "  A_i = int(input())\n",
        "  for j in range(A_i):\n",
        "    a[i].append(list(map(int, input().split())))\n",
        "\n",
        "max_honest = 0\n",
        "for i in range(2**N):\n",
        "  contradiction = False\n",
        "  honest_p = []\n",
        "  unkind_p = []\n",
        "  doubt_honest_p = []\n",
        "  doubt_unkind_p = []\n",
        "  length = len(format(2**N-1, \"b\"))\n",
        "  bin_num = format(i, \"b\").zfill(length)\n",
        "  for j in range(length):\n",
        "    if (i >> j) & 1:\n",
        "      if not j+1 in honest_p:\n",
        "      \thonest_p.append(j+1)\n",
        "      if not j+1 in doubt_honest_p:\n",
        "      \tdoubt_honest_p.append(j+1)\n",
        "      for k in a[j]:\n",
        "        p = k[0]\n",
        "        t = k[1]\n",
        "        if t:\n",
        "          if not p in honest_p:\n",
        "          \thonest_p.append(p)\n",
        "        else:\n",
        "          if not p in unkind_p: \n",
        "          \tunkind_p.append(p)\n",
        "    else:\n",
        "      if not j+1 in unkind_p:\n",
        "        unkind_p.append(j+1)\n",
        "      if not j+1 in doubt_unkind_p:\n",
        "      \tdoubt_unkind_p.append(j+1)\n",
        "  if len(list(set(honest_p) & set(unkind_p))) != 0:\n",
        "    contradiction = True\n",
        "  if not contradiction and max_honest <= len(doubt_honest_p):\n",
        "    max_honest = len(doubt_honest_p)\n",
        "    \n",
        "print(max_honest)"
      ],
      "execution_count": 1,
      "outputs": [
        {
          "output_type": "error",
          "ename": "KeyboardInterrupt",
          "evalue": "ignored",
          "traceback": [
            "\u001b[0;31m---------------------------------------------------------------------------\u001b[0m",
            "\u001b[0;31mKeyboardInterrupt\u001b[0m                         Traceback (most recent call last)",
            "\u001b[0;32m/usr/local/lib/python3.6/dist-packages/ipykernel/kernelbase.py\u001b[0m in \u001b[0;36m_input_request\u001b[0;34m(self, prompt, ident, parent, password)\u001b[0m\n\u001b[1;32m    729\u001b[0m             \u001b[0;32mtry\u001b[0m\u001b[0;34m:\u001b[0m\u001b[0;34m\u001b[0m\u001b[0;34m\u001b[0m\u001b[0m\n\u001b[0;32m--> 730\u001b[0;31m                 \u001b[0mident\u001b[0m\u001b[0;34m,\u001b[0m \u001b[0mreply\u001b[0m \u001b[0;34m=\u001b[0m \u001b[0mself\u001b[0m\u001b[0;34m.\u001b[0m\u001b[0msession\u001b[0m\u001b[0;34m.\u001b[0m\u001b[0mrecv\u001b[0m\u001b[0;34m(\u001b[0m\u001b[0mself\u001b[0m\u001b[0;34m.\u001b[0m\u001b[0mstdin_socket\u001b[0m\u001b[0;34m,\u001b[0m \u001b[0;36m0\u001b[0m\u001b[0;34m)\u001b[0m\u001b[0;34m\u001b[0m\u001b[0;34m\u001b[0m\u001b[0m\n\u001b[0m\u001b[1;32m    731\u001b[0m             \u001b[0;32mexcept\u001b[0m \u001b[0mException\u001b[0m\u001b[0;34m:\u001b[0m\u001b[0;34m\u001b[0m\u001b[0;34m\u001b[0m\u001b[0m\n",
            "\u001b[0;32m/usr/local/lib/python3.6/dist-packages/jupyter_client/session.py\u001b[0m in \u001b[0;36mrecv\u001b[0;34m(self, socket, mode, content, copy)\u001b[0m\n\u001b[1;32m    802\u001b[0m         \u001b[0;32mtry\u001b[0m\u001b[0;34m:\u001b[0m\u001b[0;34m\u001b[0m\u001b[0;34m\u001b[0m\u001b[0m\n\u001b[0;32m--> 803\u001b[0;31m             \u001b[0mmsg_list\u001b[0m \u001b[0;34m=\u001b[0m \u001b[0msocket\u001b[0m\u001b[0;34m.\u001b[0m\u001b[0mrecv_multipart\u001b[0m\u001b[0;34m(\u001b[0m\u001b[0mmode\u001b[0m\u001b[0;34m,\u001b[0m \u001b[0mcopy\u001b[0m\u001b[0;34m=\u001b[0m\u001b[0mcopy\u001b[0m\u001b[0;34m)\u001b[0m\u001b[0;34m\u001b[0m\u001b[0;34m\u001b[0m\u001b[0m\n\u001b[0m\u001b[1;32m    804\u001b[0m         \u001b[0;32mexcept\u001b[0m \u001b[0mzmq\u001b[0m\u001b[0;34m.\u001b[0m\u001b[0mZMQError\u001b[0m \u001b[0;32mas\u001b[0m \u001b[0me\u001b[0m\u001b[0;34m:\u001b[0m\u001b[0;34m\u001b[0m\u001b[0;34m\u001b[0m\u001b[0m\n",
            "\u001b[0;32m/usr/local/lib/python3.6/dist-packages/zmq/sugar/socket.py\u001b[0m in \u001b[0;36mrecv_multipart\u001b[0;34m(self, flags, copy, track)\u001b[0m\n\u001b[1;32m    465\u001b[0m         \"\"\"\n\u001b[0;32m--> 466\u001b[0;31m         \u001b[0mparts\u001b[0m \u001b[0;34m=\u001b[0m \u001b[0;34m[\u001b[0m\u001b[0mself\u001b[0m\u001b[0;34m.\u001b[0m\u001b[0mrecv\u001b[0m\u001b[0;34m(\u001b[0m\u001b[0mflags\u001b[0m\u001b[0;34m,\u001b[0m \u001b[0mcopy\u001b[0m\u001b[0;34m=\u001b[0m\u001b[0mcopy\u001b[0m\u001b[0;34m,\u001b[0m \u001b[0mtrack\u001b[0m\u001b[0;34m=\u001b[0m\u001b[0mtrack\u001b[0m\u001b[0;34m)\u001b[0m\u001b[0;34m]\u001b[0m\u001b[0;34m\u001b[0m\u001b[0;34m\u001b[0m\u001b[0m\n\u001b[0m\u001b[1;32m    467\u001b[0m         \u001b[0;31m# have first part already, only loop while more to receive\u001b[0m\u001b[0;34m\u001b[0m\u001b[0;34m\u001b[0m\u001b[0;34m\u001b[0m\u001b[0m\n",
            "\u001b[0;32mzmq/backend/cython/socket.pyx\u001b[0m in \u001b[0;36mzmq.backend.cython.socket.Socket.recv\u001b[0;34m()\u001b[0m\n",
            "\u001b[0;32mzmq/backend/cython/socket.pyx\u001b[0m in \u001b[0;36mzmq.backend.cython.socket.Socket.recv\u001b[0;34m()\u001b[0m\n",
            "\u001b[0;32mzmq/backend/cython/socket.pyx\u001b[0m in \u001b[0;36mzmq.backend.cython.socket._recv_copy\u001b[0;34m()\u001b[0m\n",
            "\u001b[0;32m/usr/local/lib/python3.6/dist-packages/zmq/backend/cython/checkrc.pxd\u001b[0m in \u001b[0;36mzmq.backend.cython.checkrc._check_rc\u001b[0;34m()\u001b[0m\n",
            "\u001b[0;31mKeyboardInterrupt\u001b[0m: ",
            "\nDuring handling of the above exception, another exception occurred:\n",
            "\u001b[0;31mKeyboardInterrupt\u001b[0m                         Traceback (most recent call last)",
            "\u001b[0;32m<ipython-input-1-2408b7784876>\u001b[0m in \u001b[0;36m<module>\u001b[0;34m()\u001b[0m\n\u001b[0;32m----> 1\u001b[0;31m \u001b[0mN\u001b[0m \u001b[0;34m=\u001b[0m \u001b[0mint\u001b[0m\u001b[0;34m(\u001b[0m\u001b[0minput\u001b[0m\u001b[0;34m(\u001b[0m\u001b[0;34m)\u001b[0m\u001b[0;34m)\u001b[0m\u001b[0;34m\u001b[0m\u001b[0;34m\u001b[0m\u001b[0m\n\u001b[0m\u001b[1;32m      2\u001b[0m \u001b[0ma\u001b[0m \u001b[0;34m=\u001b[0m \u001b[0;34m[\u001b[0m\u001b[0;34m[\u001b[0m\u001b[0;34m]\u001b[0m \u001b[0;32mfor\u001b[0m \u001b[0m_\u001b[0m \u001b[0;32min\u001b[0m \u001b[0mrange\u001b[0m\u001b[0;34m(\u001b[0m\u001b[0mN\u001b[0m\u001b[0;34m)\u001b[0m\u001b[0;34m]\u001b[0m\u001b[0;34m\u001b[0m\u001b[0;34m\u001b[0m\u001b[0m\n\u001b[1;32m      3\u001b[0m \u001b[0;32mfor\u001b[0m \u001b[0mi\u001b[0m \u001b[0;32min\u001b[0m \u001b[0mrange\u001b[0m\u001b[0;34m(\u001b[0m\u001b[0mN\u001b[0m\u001b[0;34m)\u001b[0m\u001b[0;34m:\u001b[0m\u001b[0;34m\u001b[0m\u001b[0;34m\u001b[0m\u001b[0m\n\u001b[1;32m      4\u001b[0m   \u001b[0mA_i\u001b[0m \u001b[0;34m=\u001b[0m \u001b[0mint\u001b[0m\u001b[0;34m(\u001b[0m\u001b[0minput\u001b[0m\u001b[0;34m(\u001b[0m\u001b[0;34m)\u001b[0m\u001b[0;34m)\u001b[0m\u001b[0;34m\u001b[0m\u001b[0;34m\u001b[0m\u001b[0m\n\u001b[1;32m      5\u001b[0m   \u001b[0;32mfor\u001b[0m \u001b[0mj\u001b[0m \u001b[0;32min\u001b[0m \u001b[0mrange\u001b[0m\u001b[0;34m(\u001b[0m\u001b[0mA_i\u001b[0m\u001b[0;34m)\u001b[0m\u001b[0;34m:\u001b[0m\u001b[0;34m\u001b[0m\u001b[0;34m\u001b[0m\u001b[0m\n",
            "\u001b[0;32m/usr/local/lib/python3.6/dist-packages/ipykernel/kernelbase.py\u001b[0m in \u001b[0;36mraw_input\u001b[0;34m(self, prompt)\u001b[0m\n\u001b[1;32m    703\u001b[0m             \u001b[0mself\u001b[0m\u001b[0;34m.\u001b[0m\u001b[0m_parent_ident\u001b[0m\u001b[0;34m,\u001b[0m\u001b[0;34m\u001b[0m\u001b[0;34m\u001b[0m\u001b[0m\n\u001b[1;32m    704\u001b[0m             \u001b[0mself\u001b[0m\u001b[0;34m.\u001b[0m\u001b[0m_parent_header\u001b[0m\u001b[0;34m,\u001b[0m\u001b[0;34m\u001b[0m\u001b[0;34m\u001b[0m\u001b[0m\n\u001b[0;32m--> 705\u001b[0;31m             \u001b[0mpassword\u001b[0m\u001b[0;34m=\u001b[0m\u001b[0;32mFalse\u001b[0m\u001b[0;34m,\u001b[0m\u001b[0;34m\u001b[0m\u001b[0;34m\u001b[0m\u001b[0m\n\u001b[0m\u001b[1;32m    706\u001b[0m         )\n\u001b[1;32m    707\u001b[0m \u001b[0;34m\u001b[0m\u001b[0m\n",
            "\u001b[0;32m/usr/local/lib/python3.6/dist-packages/ipykernel/kernelbase.py\u001b[0m in \u001b[0;36m_input_request\u001b[0;34m(self, prompt, ident, parent, password)\u001b[0m\n\u001b[1;32m    733\u001b[0m             \u001b[0;32mexcept\u001b[0m \u001b[0mKeyboardInterrupt\u001b[0m\u001b[0;34m:\u001b[0m\u001b[0;34m\u001b[0m\u001b[0;34m\u001b[0m\u001b[0m\n\u001b[1;32m    734\u001b[0m                 \u001b[0;31m# re-raise KeyboardInterrupt, to truncate traceback\u001b[0m\u001b[0;34m\u001b[0m\u001b[0;34m\u001b[0m\u001b[0;34m\u001b[0m\u001b[0m\n\u001b[0;32m--> 735\u001b[0;31m                 \u001b[0;32mraise\u001b[0m \u001b[0mKeyboardInterrupt\u001b[0m\u001b[0;34m\u001b[0m\u001b[0;34m\u001b[0m\u001b[0m\n\u001b[0m\u001b[1;32m    736\u001b[0m             \u001b[0;32melse\u001b[0m\u001b[0;34m:\u001b[0m\u001b[0;34m\u001b[0m\u001b[0;34m\u001b[0m\u001b[0m\n\u001b[1;32m    737\u001b[0m                 \u001b[0;32mbreak\u001b[0m\u001b[0;34m\u001b[0m\u001b[0;34m\u001b[0m\u001b[0m\n",
            "\u001b[0;31mKeyboardInterrupt\u001b[0m: "
          ]
        }
      ]
    },
    {
      "cell_type": "markdown",
      "metadata": {
        "id": "oxF9rTYScOwu",
        "colab_type": "text"
      },
      "source": [
        "**・まとめ**\n",
        "<br>\n",
        "自分の知らないプログラミングの知識が深まるのでやりがいがある。また、実行時間を短くするという考えがなかったので新たな視点が得られた。"
      ]
    },
    {
      "cell_type": "code",
      "metadata": {
        "id": "RZ6SdHkJ9hOp",
        "colab_type": "code",
        "colab": {}
      },
      "source": [
        ""
      ],
      "execution_count": 0,
      "outputs": []
    }
  ]
}